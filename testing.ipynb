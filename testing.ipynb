{
 "cells": [
  {
   "cell_type": "code",
   "execution_count": 39,
   "metadata": {},
   "outputs": [],
   "source": [
    "words = open(\"words.txt\", \"r\").read().split()"
   ]
  },
  {
   "cell_type": "code",
   "execution_count": 40,
   "metadata": {},
   "outputs": [
    {
     "name": "stdout",
     "output_type": "stream",
     "text": [
      "79129 79129\n"
     ]
    }
   ],
   "source": [
    "new_words = set(words)\n",
    "\n",
    "print(len(new_words), len(words))"
   ]
  },
  {
   "cell_type": "code",
   "execution_count": 41,
   "metadata": {},
   "outputs": [],
   "source": [
    "written = set()\n",
    "outputString = \"\"\n",
    "\n",
    "for word in words:\n",
    "    if word in written:\n",
    "        print(word, \"duplicate\")\n",
    "        continue\n",
    "    written.add(word)\n",
    "    outputString += word + \"\\n\"\n",
    "\n",
    "\n",
    "\n",
    "with open(\"words.txt\", \"w\") as f:\n",
    "    f.write(outputString)"
   ]
  },
  {
   "cell_type": "code",
   "execution_count": 42,
   "metadata": {},
   "outputs": [
    {
     "data": {
      "text/plain": [
       "121"
      ]
     },
     "execution_count": 42,
     "metadata": {},
     "output_type": "execute_result"
    }
   ],
   "source": [
    "words.index(\"abetter\")"
   ]
  },
  {
   "cell_type": "code",
   "execution_count": 43,
   "metadata": {},
   "outputs": [
    {
     "data": {
      "text/plain": [
       "['abetter',\n",
       " 'abetters',\n",
       " 'abetting',\n",
       " 'abettor',\n",
       " 'abettors',\n",
       " 'abeyance',\n",
       " 'abeyant',\n",
       " 'abfarad',\n",
       " 'abfarads',\n",
       " 'abhenries',\n",
       " 'abhenry',\n",
       " 'abhor',\n",
       " 'abhorred',\n",
       " 'abhorrence']"
      ]
     },
     "execution_count": 43,
     "metadata": {},
     "output_type": "execute_result"
    }
   ],
   "source": [
    "words[121:135]"
   ]
  },
  {
   "cell_type": "code",
   "execution_count": null,
   "metadata": {},
   "outputs": [],
   "source": []
  }
 ],
 "metadata": {
  "kernelspec": {
   "display_name": "Python 3",
   "language": "python",
   "name": "python3"
  },
  "language_info": {
   "codemirror_mode": {
    "name": "ipython",
    "version": 3
   },
   "file_extension": ".py",
   "mimetype": "text/x-python",
   "name": "python",
   "nbconvert_exporter": "python",
   "pygments_lexer": "ipython3",
   "version": "3.10.9"
  },
  "orig_nbformat": 4
 },
 "nbformat": 4,
 "nbformat_minor": 2
}
